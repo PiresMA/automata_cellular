{
 "cells": [
  {
   "cell_type": "markdown",
   "metadata": {},
   "source": [
    "* Pandas.DataFrame allows to properly manage the mapping from the 3-state pattern at time t to the new state at t+1\n",
    "* Boundary conditions: I set an augmented chain with positions x=[-tmax-1,...,0,...,tmax+1]"
   ]
  },
  {
   "cell_type": "code",
   "execution_count": 1,
   "metadata": {},
   "outputs": [],
   "source": [
    "import numpy as np\n",
    "import pandas as pd \n",
    "import matplotlib.pyplot as plt\n",
    "import matplotlib.cm as cm"
   ]
  },
  {
   "cell_type": "code",
   "execution_count": 2,
   "metadata": {},
   "outputs": [
    {
     "name": "stdout",
     "output_type": "stream",
     "text": [
      "           0    1    2    3    4    5    6    7\n",
      "current  000  001  010  011  100  101  110  111\n",
      "new        0    1    1    0    1    0    0    1\n"
     ]
    }
   ],
   "source": [
    "rule = 150\n",
    "rule_in_binary = '{0:08b}'.format(rule)\n",
    "rule_in_binary_rev = ''.join(reversed(rule_in_binary))\n",
    "\n",
    "dfObj = pd.DataFrame( [[ '{0:03b}'.format(i), rule_in_binary_rev[i] ] for i in range(2**3)], columns=['current','new']) \n",
    "#print( dfObj.T )\n",
    "\n",
    "#dfObj=dfObj.reindex(index=dfObj.index[::-1])\n",
    "print( dfObj.T )"
   ]
  },
  {
   "cell_type": "code",
   "execution_count": 3,
   "metadata": {},
   "outputs": [
    {
     "name": "stdout",
     "output_type": "stream",
     "text": [
      "           0    1    2    3    4    5    6    7\n",
      "current  000  001  010  011  100  101  110  111\n",
      "new        0    1    1    0    1    0    0    1\n"
     ]
    },
    {
     "data": {
      "image/png": "[encoded data removed]",
      "text/plain": [
       "<Figure size 1152x129.6 with 9 Axes>"
      ]
     },
     "metadata": {
      "needs_background": "light"
     },
     "output_type": "display_data"
    }
   ],
   "source": [
    "fig=plt.figure(figsize=(16, 1.8))\n",
    "columns = 8  ; rows = 1\n",
    "\n",
    "print( dfObj.T )\n",
    "\n",
    "plt.title('Rule %d'%(rule) , fontsize=16)\n",
    "plt.xticks([]) \n",
    "plt.yticks((0.3, 0.6), ( 't+1 ', 't   '), color='k', size=20)\n",
    "\n",
    "for i in range(1, columns*rows +1):\n",
    "    \n",
    "    arr=np.array(dfObj.loc[[i-1]]).flatten()     \n",
    "    listcurr = [int(ch) for ch in arr[0]]  #  string ---> list of int        \n",
    "    listnext = [-2,int(arr[1]),-2] # workaround: I use -2 just to put a different color later\n",
    "    data = [ listcurr,listnext ]\n",
    "    img = np.array( data, ndmin=2) \n",
    "\n",
    "    fig.add_subplot(rows, columns, i)    \n",
    "    plt.imshow(img,cmap=cm.hot)\n",
    "    plt.xticks([])\n",
    "    plt.yticks([])\n",
    "    \n",
    "    for y in range(img.shape[0]):\n",
    "        for x in range(img.shape[1]):\n",
    "            if img[y, x]>-2:\n",
    "                plt.text(x, y, '%d' % img[y, x], fontsize=16,\n",
    "                 horizontalalignment='center',verticalalignment='center')\n",
    "                 \n",
    "                 \n",
    "plt.tight_layout(True)    "
   ]
  },
  {
   "cell_type": "code",
   "execution_count": 4,
   "metadata": {},
   "outputs": [],
   "source": [
    "def curr_to_next():    \n",
    "    \n",
    "    status2 = [0] # Left boundary\n",
    "    \n",
    "    for Ix in range(1,len(xpos)-1,1):\n",
    "        # build the neighborhood (3-state pattern) \n",
    "        arrint = [status[Ix-1],status[Ix],status[Ix+1]]\n",
    "        # Convert int to string\n",
    "        currstr=\"\".join([str(a) for a in arrint]) \n",
    "        # Search the current pattern inside the dataframe with all the patterns\n",
    "        dfaux = dfObj.loc[ dfObj['current']==currstr ]             \n",
    "        # Include in the new list\n",
    "        status2.append( int(dfaux['new']) )\n",
    "        \n",
    "    status2.append( 0 )  # Right boundary   \n",
    "\n",
    "    return np.array(status2, dtype=np.int32)"
   ]
  },
  {
   "cell_type": "code",
   "execution_count": 5,
   "metadata": {},
   "outputs": [],
   "source": [
    "tmax = 50\n",
    "\n",
    "xpos = np.arange(-tmax-1, tmax+2, 1) # augmented chain = [-tmax-1,...,0,...,tmax+1]\n",
    "status = np.zeros(len(xpos), dtype=np.int32)\n",
    "\n",
    "# t=0\n",
    "Ixc = xpos.size//2 # Index of the central position\n",
    "status[Ixc]=1\n",
    "\n",
    "# t>0\n",
    "lpx = [ list(status) ] \n",
    "for t in np.arange(1,tmax,1):    \n",
    "    status = curr_to_next()\n",
    "    lpx.append( list(status) ) "
   ]
  },
  {
   "cell_type": "code",
   "execution_count": 6,
   "metadata": {},
   "outputs": [
    {
     "data": {
      "text/plain": [
       "Text(0.5,1,'Rule 150')"
      ]
     },
     "execution_count": 6,
     "metadata": {},
     "output_type": "execute_result"
    },
    {
     "data": {
      "image/png": "[encoded data removed]",
      "text/plain": [
       "<Figure size 432x216 with 1 Axes>"
      ]
     },
     "metadata": {},
     "output_type": "display_data"
    }
   ],
   "source": [
    "fig, ax = plt.subplots( figsize=(6,3) )\n",
    "img = np.array( lpx, ndmin=2) \n",
    "plt.imshow( img, extent=[-len(xpos)/2,len(xpos)/2,tmax,0])\n",
    "plt.xticks([]),plt.yticks([])\n",
    "ax.annotate('', xy=(-tmax+1, tmax-3), xytext=(-tmax+1, 0), size=14,color='yellow',\n",
    "            arrowprops=dict(color='yellow', shrink=0.09,width=1,headwidth=4) )\n",
    "plt.title('Rule %d'%(rule) , fontsize=18)"
   ]
  },
  {
   "cell_type": "code",
   "execution_count": null,
   "metadata": {},
   "outputs": [],
   "source": []
  }
 ],
 "metadata": {
  "anaconda-cloud": {},
  "kernelspec": {
   "display_name": "Python [default]",
   "language": "python",
   "name": "python2"
  },
  "language_info": {
   "codemirror_mode": {
    "name": "ipython",
    "version": 2
   },
   "file_extension": ".py",
   "mimetype": "text/x-python",
   "name": "python",
   "nbconvert_exporter": "python",
   "pygments_lexer": "ipython2",
   "version": "2.7.15"
  }
 },
 "nbformat": 4,
 "nbformat_minor": 2
}
